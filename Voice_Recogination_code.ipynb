{
  "nbformat": 4,
  "nbformat_minor": 0,
  "metadata": {
    "colab": {
      "private_outputs": true,
      "provenance": []
    },
    "kernelspec": {
      "name": "python3",
      "display_name": "Python 3"
    },
    "language_info": {
      "name": "python"
    }
  },
  "cells": [
    {
      "cell_type": "code",
      "execution_count": null,
      "metadata": {
        "id": "L6gU7BEFKgr9"
      },
      "outputs": [],
      "source": [
        "from google.colab import files\n",
        "\n",
        "# This will open a file picker to upload from your PC\n",
        "uploaded = files.upload()\n"
      ]
    },
    {
      "cell_type": "code",
      "source": [
        "import zipfile\n",
        "import os\n",
        "\n",
        "# Unzip the uploaded file\n",
        "with zipfile.ZipFile(\"dataset.zip\", 'r') as zip_ref:\n",
        "    zip_ref.extractall(\"dataset\")\n",
        "\n",
        "# Check the contents\n",
        "print(\"Files extracted:\")\n",
        "print(os.listdir(\"dataset\"))\n"
      ],
      "metadata": {
        "id": "V415JInTKvaE"
      },
      "execution_count": null,
      "outputs": []
    },
    {
      "cell_type": "code",
      "source": [
        "import os\n",
        "import shutil\n",
        "\n",
        "source_dir = 'dataset'\n",
        "emotion_map = {\n",
        "    '01': 'neutral',\n",
        "    '03': 'happy',\n",
        "    '04': 'sad',\n",
        "    '05': 'angry'\n",
        "}\n",
        "\n",
        "# Step 1: Create target emotion folders\n",
        "for emotion in emotion_map.values():\n",
        "    os.makedirs(os.path.join(source_dir, emotion), exist_ok=True)\n",
        "\n",
        "# Step 2: Loop through Actor folders and move files\n",
        "for actor_folder in os.listdir(source_dir):\n",
        "    actor_path = os.path.join(source_dir, actor_folder)\n",
        "\n",
        "    if os.path.isdir(actor_path) and actor_folder.startswith(\"Actor_\"):\n",
        "        for file in os.listdir(actor_path):\n",
        "            if file.endswith('.wav'):\n",
        "                emotion_code = file.split(\"-\")[2]  # 3rd part of filename\n",
        "                if emotion_code in emotion_map:\n",
        "                    emotion = emotion_map[emotion_code]\n",
        "                    src = os.path.join(actor_path, file)\n",
        "                    dst = os.path.join(source_dir, emotion, file)\n",
        "                    shutil.move(src, dst)\n",
        "\n",
        "print(\"✅ Audio files sorted into: happy, sad, angry, neutral.\")\n"
      ],
      "metadata": {
        "id": "5TDgHJwpBCAM"
      },
      "execution_count": null,
      "outputs": []
    },
    {
      "cell_type": "code",
      "source": [
        "for emotion in ['happy', 'sad', 'angry', 'neutral']:\n",
        "    print(f\"{emotion} →\", len(os.listdir(f'dataset/{emotion}')), \"files\")\n"
      ],
      "metadata": {
        "id": "ZqD03Eg8BKqh"
      },
      "execution_count": null,
      "outputs": []
    },
    {
      "cell_type": "code",
      "source": [
        "dataset_path = 'dataset'\n"
      ],
      "metadata": {
        "id": "KpLKyN_I3uAg"
      },
      "execution_count": null,
      "outputs": []
    },
    {
      "cell_type": "code",
      "source": [
        "!pip install librosa soundfile scikit-learn\n"
      ],
      "metadata": {
        "id": "eTZCgPNnRewc"
      },
      "execution_count": null,
      "outputs": []
    },
    {
      "cell_type": "code",
      "source": [
        "import os\n",
        "import librosa\n",
        "import numpy as np\n",
        "from sklearn.model_selection import train_test_split\n",
        "from sklearn.ensemble import RandomForestClassifier\n",
        "from sklearn.metrics import classification_report\n"
      ],
      "metadata": {
        "id": "whLMH3d6R2yY"
      },
      "execution_count": null,
      "outputs": []
    },
    {
      "cell_type": "code",
      "source": [
        "def extract_features(file_path):\n",
        "    try:\n",
        "        audio, sample_rate = librosa.load(file_path, duration=3, offset=0.5)\n",
        "        mfccs = librosa.feature.mfcc(y=audio, sr=sample_rate, n_mfcc=40)\n",
        "        return np.mean(mfccs.T, axis=0)\n",
        "    except Exception as e:\n",
        "        print(\"Error:\", file_path, e)\n",
        "        return None\n"
      ],
      "metadata": {
        "id": "CavKu_cjR7Dg"
      },
      "execution_count": null,
      "outputs": []
    },
    {
      "cell_type": "code",
      "source": [
        "data_path = 'dataset'\n",
        "\n",
        "X = []\n",
        "y = []\n",
        "\n",
        "for emotion in os.listdir(data_path):\n",
        "    folder_path = os.path.join(data_path, emotion)\n",
        "    if not os.path.isdir(folder_path):\n",
        "        continue\n",
        "    for file in os.listdir(folder_path):\n",
        "        if file.endswith('.wav'):\n",
        "            file_path = os.path.join(folder_path, file)\n",
        "            features = extract_features(file_path)\n",
        "            if features is not None:\n",
        "                X.append(features)\n",
        "                y.append(emotion)\n"
      ],
      "metadata": {
        "id": "Ebf-s3M0R-ob"
      },
      "execution_count": null,
      "outputs": []
    },
    {
      "cell_type": "code",
      "source": [
        "print(\"Total samples:\", len(X))\n",
        "print(\"Feature shape of one sample:\", len(X[0]))\n",
        "print(\"Emotion labels:\", set(y))\n"
      ],
      "metadata": {
        "id": "RqrwJ7lASCP1"
      },
      "execution_count": null,
      "outputs": []
    },
    {
      "cell_type": "code",
      "source": [
        "from sklearn.model_selection import train_test_split\n",
        "\n",
        "X_train, X_test, y_train, y_test = train_test_split(\n",
        "    X, y, test_size=0.2, random_state=42\n",
        ")\n"
      ],
      "metadata": {
        "id": "p_wZEos1SNXA"
      },
      "execution_count": null,
      "outputs": []
    },
    {
      "cell_type": "code",
      "source": [
        "from sklearn.ensemble import RandomForestClassifier\n",
        "\n",
        "model = RandomForestClassifier()\n",
        "model.fit(X_train, y_train)\n"
      ],
      "metadata": {
        "id": "HcLezpFrSYdk"
      },
      "execution_count": null,
      "outputs": []
    },
    {
      "cell_type": "code",
      "source": [
        "from sklearn.metrics import classification_report\n",
        "\n",
        "y_pred = model.predict(X_test)\n",
        "print(classification_report(y_test, y_pred))\n"
      ],
      "metadata": {
        "id": "F0fLsQogSasm"
      },
      "execution_count": null,
      "outputs": []
    },
    {
      "cell_type": "code",
      "source": [
        "from google.colab import files\n",
        "uploaded = files.upload()\n",
        "\n"
      ],
      "metadata": {
        "id": "gado30-ASeHr"
      },
      "execution_count": null,
      "outputs": []
    },
    {
      "cell_type": "code",
      "source": [
        "import librosa\n",
        "import numpy as np\n",
        "\n",
        "def extract_features(file_path):\n",
        "    try:\n",
        "        audio, sample_rate = librosa.load(file_path, duration=3, offset=0.5)\n",
        "        mfccs = librosa.feature.mfcc(y=audio, sr=sample_rate, n_mfcc=40)\n",
        "        return np.mean(mfccs.T, axis=0)\n",
        "    except Exception as e:\n",
        "        print(\"Error:\", file_path, e)\n",
        "        return None\n"
      ],
      "metadata": {
        "id": "hWcjI8mqSiH7"
      },
      "execution_count": null,
      "outputs": []
    },
    {
      "cell_type": "code",
      "source": [
        "test_file = 'myvoice(2).wav'  # Make sure this is your uploaded file\n",
        "features = extract_features(test_file)\n",
        "\n",
        "# Check if features were extracted correctly\n",
        "if features is not None and len(features) == 40:\n",
        "    features = np.array(features).reshape(1, -1)\n",
        "    predicted_emotion = model.predict(features)\n",
        "    print(\"Predicted Emotion:\", predicted_emotion[0])\n",
        "else:\n",
        "    print(\"Feature extraction failed or file is invalid.\")\n"
      ],
      "metadata": {
        "id": "LJ3pgFoyS2Zw"
      },
      "execution_count": null,
      "outputs": []
    },
    {
      "cell_type": "code",
      "source": [],
      "metadata": {
        "id": "3hWrXnd22b6Y"
      },
      "execution_count": null,
      "outputs": []
    }
  ]
}